{
 "cells": [
  {
   "cell_type": "markdown",
   "id": "1bb88425",
   "metadata": {},
   "source": [
    "# Everything about cv2.imshow()\n",
    "\n",
    "## Synatx:cv2.imshow(window name, ndarray)\n",
    "***This function help to show image or numpy array in the  form of image***"
   ]
  },
  {
   "cell_type": "code",
   "execution_count": 1,
   "id": "4fdd5f92",
   "metadata": {},
   "outputs": [],
   "source": [
    "import cv2\n",
    "import numpy as np"
   ]
  },
  {
   "cell_type": "code",
   "execution_count": 2,
   "id": "f21738a3",
   "metadata": {},
   "outputs": [
    {
     "name": "stdout",
     "output_type": "stream",
     "text": [
      "[[0. 0. 0. ... 0. 0. 0.]\n",
      " [0. 0. 0. ... 0. 0. 0.]\n",
      " [0. 0. 0. ... 0. 0. 0.]\n",
      " ...\n",
      " [0. 0. 0. ... 0. 0. 0.]\n",
      " [0. 0. 0. ... 0. 0. 0.]\n",
      " [0. 0. 0. ... 0. 0. 0.]]\n"
     ]
    }
   ],
   "source": [
    "matx = np.zeros((200,200)) # zeros matrix show black images\n",
    "print(matx)"
   ]
  },
  {
   "cell_type": "code",
   "execution_count": 3,
   "id": "49402aee",
   "metadata": {},
   "outputs": [],
   "source": [
    "cv2.imshow(\"Zeros Image\",matx)\n",
    "\n",
    "cv2.waitKey(0)\n",
    "cv2.destroyAllWindows()\n"
   ]
  },
  {
   "cell_type": "code",
   "execution_count": 5,
   "id": "29d03ec5",
   "metadata": {},
   "outputs": [
    {
     "name": "stdout",
     "output_type": "stream",
     "text": [
      "[[1. 1. 1. ... 1. 1. 1.]\n",
      " [1. 1. 1. ... 1. 1. 1.]\n",
      " [1. 1. 1. ... 1. 1. 1.]\n",
      " ...\n",
      " [1. 1. 1. ... 1. 1. 1.]\n",
      " [1. 1. 1. ... 1. 1. 1.]\n",
      " [1. 1. 1. ... 1. 1. 1.]]\n"
     ]
    }
   ],
   "source": [
    "matx = np.ones((200,200)) # zeros matrix show black images\n",
    "print(matx)"
   ]
  },
  {
   "cell_type": "code",
   "execution_count": 6,
   "id": "28a65f2e",
   "metadata": {},
   "outputs": [],
   "source": [
    "cv2.imshow(\"Ones Image\",matx)\n",
    "\n",
    "cv2.waitKey(0)\n",
    "cv2.destroyAllWindows()\n"
   ]
  },
  {
   "cell_type": "code",
   "execution_count": 7,
   "id": "e5be03e0",
   "metadata": {},
   "outputs": [],
   "source": [
    "img_path=r\"\"\"E:\\Videos\\img_3.jpg\"\"\"\n",
    "img = cv2.imread(img_path)\n",
    "\n",
    "cv2.imshow(\"MASTI\",img)\n",
    "cv2.waitKey(0)\n",
    "cv2.destroyAllWindows()"
   ]
  },
  {
   "cell_type": "code",
   "execution_count": 11,
   "id": "3c10e67d",
   "metadata": {},
   "outputs": [],
   "source": [
    "img_path=r\"\"\"E:\\Videos\\img_3.jpg\"\"\"\n",
    "img = cv2.imread(img_path)\n",
    "\n",
    "cv2.imshow(\"Krishna_1\",img) # show 1st windows\n",
    "\n",
    "cv2.imshow(\"Krishn_2\",img) # how 2nd windows\n",
    "\n",
    "cv2.imshow(\"Krishna_3\",img) # show 3rd widows\n",
    "\n",
    "cv2.waitKey(0)\n",
    "cv2.destroyAllWindows()"
   ]
  },
  {
   "cell_type": "code",
   "execution_count": null,
   "id": "16753751",
   "metadata": {},
   "outputs": [],
   "source": []
  }
 ],
 "metadata": {
  "kernelspec": {
   "display_name": "Python 3 (ipykernel)",
   "language": "python",
   "name": "python3"
  },
  "language_info": {
   "codemirror_mode": {
    "name": "ipython",
    "version": 3
   },
   "file_extension": ".py",
   "mimetype": "text/x-python",
   "name": "python",
   "nbconvert_exporter": "python",
   "pygments_lexer": "ipython3",
   "version": "3.7.13"
  }
 },
 "nbformat": 4,
 "nbformat_minor": 5
}
