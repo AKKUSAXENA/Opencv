{
 "cells": [
  {
   "cell_type": "code",
   "execution_count": 1,
   "id": "0f15c323",
   "metadata": {},
   "outputs": [],
   "source": [
    "import numpy as np\n",
    "import cv2"
   ]
  },
  {
   "cell_type": "code",
   "execution_count": 2,
   "id": "c5a9cd08",
   "metadata": {},
   "outputs": [],
   "source": [
    "video_path1 = r'E:\\Videos\\B PRAAK - Qismat 2 - Title Track - Ammy Virk - Sargun Mehta - Qismat 2 - 2021.mp4'\n",
    "video_path2 = r'E:\\Videos\\Paagla Full Song - Qismat 2 - B PRAAK - Ammy Virk - Sargun Mehta - Jaani - Asees Kaur.mp4'\n"
   ]
  },
  {
   "cell_type": "code",
   "execution_count": 6,
   "id": "58d63b9c",
   "metadata": {},
   "outputs": [],
   "source": [
    "cap = cv2.VideoCapture(0) \n",
    "\n",
    "while cap.isOpened():\n",
    "    ret, frame =  cap.read()\n",
    "    if ret:\n",
    "        image = cv2.resize(frame,(1280,720))\n",
    "        cv2.imshow(\"Video Player\",image)\n",
    "        \n",
    "        if cv2.waitKey(25) & 0xff == ord('q'):\n",
    "            break\n",
    "    else:\n",
    "        break\n",
    "cap.release()\n",
    "cv2.destroyAllWindows()\n"
   ]
  },
  {
   "cell_type": "code",
   "execution_count": null,
   "id": "5de8c2d6",
   "metadata": {},
   "outputs": [],
   "source": []
  }
 ],
 "metadata": {
  "kernelspec": {
   "display_name": "Python 3 (ipykernel)",
   "language": "python",
   "name": "python3"
  },
  "language_info": {
   "codemirror_mode": {
    "name": "ipython",
    "version": 3
   },
   "file_extension": ".py",
   "mimetype": "text/x-python",
   "name": "python",
   "nbconvert_exporter": "python",
   "pygments_lexer": "ipython3",
   "version": "3.7.13"
  }
 },
 "nbformat": 4,
 "nbformat_minor": 5
}
