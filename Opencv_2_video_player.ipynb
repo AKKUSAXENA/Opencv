{
 "cells": [
  {
   "cell_type": "code",
   "execution_count": 2,
   "id": "0f15c323",
   "metadata": {},
   "outputs": [],
   "source": [
    "import numpy as np\n",
    "import cv2"
   ]
  },
  {
   "cell_type": "code",
   "execution_count": 3,
   "id": "c5a9cd08",
   "metadata": {},
   "outputs": [],
   "source": [
    "video_path1 = r'E:\\Videos\\B PRAAK - Qismat 2 - Title Track - Ammy Virk - Sargun Mehta - Qismat 2 - 2021.mp4'\n",
    "video_path2 = r'E:\\Videos\\Paagla Full Song - Qismat 2 - B PRAAK - Ammy Virk - Sargun Mehta - Jaani - Asees Kaur.mp4'\n"
   ]
  },
  {
   "cell_type": "code",
   "execution_count": 9,
   "id": "58d63b9c",
   "metadata": {},
   "outputs": [],
   "source": [
    "cap = cv2.VideoCapture(video_path1) \n",
    "\n",
    "while cap.isOpened():\n",
    "    ret, frame =  cap.read()\n",
    "    if ret:\n",
    "        image = cv2.resize(frame,(1280,720))\n",
    "        cv2.imshow(\"Video Player\",image)\n",
    "        \n",
    "        if cv2.waitKey(25) & 0xff == ord('q'):\n",
    "            break\n",
    "    else:\n",
    "        break\n",
    "cap.release()\n",
    "cv2.destroyAllWindows()\n"
   ]
  },
  {
   "cell_type": "code",
   "execution_count": 10,
   "id": "5de8c2d6",
   "metadata": {},
   "outputs": [],
   "source": [
    "cap = cv2.VideoCapture(0) # 0 for internal laptop camera  , 1  for external laptop camera \n",
    "\n",
    "while cap.isOpened():\n",
    "    ret, frame =  cap.read()\n",
    "    if ret:\n",
    "        image = cv2.resize(frame,(1280,720))\n",
    "        cv2.imshow(\"Video Player\",image)\n",
    "        \n",
    "        if cv2.waitKey(25) & 0xff == ord('q'):\n",
    "            break\n",
    "    else:\n",
    "        break\n",
    "cap.release()\n",
    "cv2.destroyAllWindows()\n"
   ]
  },
  {
   "cell_type": "code",
   "execution_count": 11,
   "id": "7af1760a",
   "metadata": {},
   "outputs": [],
   "source": [
    "cap = cv2.VideoCapture(video_path1) \n",
    "\n",
    "while cap.isOpened():\n",
    "    ret, frame =  cap.read()\n",
    "    if ret:\n",
    "        frame = cv2.resize(frame, (600,400))\n",
    "        frame_2 = np.hstack((frame,frame))\n",
    "        frame_4 = np.vstack((frame_2,frame_2))\n",
    "        \n",
    "        cv2.imshow(\"Video Player\",frame_4)\n",
    "        \n",
    "        if cv2.waitKey(25) & 0xff == ord('q'):\n",
    "            break\n",
    "    else:\n",
    "        break\n",
    "cap.release()\n",
    "cv2.destroyAllWindows()\n",
    "\n"
   ]
  },
  {
   "cell_type": "code",
   "execution_count": 16,
   "id": "7a7ac131",
   "metadata": {},
   "outputs": [],
   "source": [
    "path = r\"\"\"E:\\Videos\"\"\"\n",
    "img_name=\"img_1.jpg\"\n",
    "cap1 = cv2.VideoCapture(video_path1)\n",
    "cap2 = cv2.VideoCapture(video_path2)\n",
    "cap3 = cv2.VideoCapture(0)\n",
    "\n",
    "\n",
    "while cap1.isOpened():\n",
    "    ret1, frame =  cap1.read()\n",
    "    ret2, frame2 =  cap2.read()\n",
    "    ret3, c_frame =  cap3.read()\n",
    "    if ret1:\n",
    "        frame1 = cv2.resize(frame, (600,400))\n",
    "        frame2 = cv2.resize(frame2, (600,400))\n",
    "        \n",
    "        camera_frame=cv2.resize(c_frame, (600,400))\n",
    "        \n",
    "        image = cv2.imread(path + '\\\\'+img_name)\n",
    "        image = cv2.resize(image,(600,400))\n",
    "        \n",
    "        frame_2 = np.hstack((frame1,frame2))\n",
    "        frame_02 = np.hstack((camera_frame, image))\n",
    "        frame_4 = np.vstack((frame_2,frame_02))\n",
    "        \n",
    "        cv2.imshow(\"Video Player\",frame_4)\n",
    "        \n",
    "        if cv2.waitKey(25) & 0xff == ord('q'):\n",
    "            break\n",
    "        else:\n",
    "            break\n",
    "cap.release()\n",
    "cv2.destroyAllWindows()\n"
   ]
  },
  {
   "cell_type": "code",
   "execution_count": 17,
   "id": "679a2f20",
   "metadata": {},
   "outputs": [
    {
     "ename": "error",
     "evalue": "OpenCV(3.4.2) C:\\Miniconda3\\conda-bld\\opencv-suite_1534379934306\\work\\modules\\imgproc\\src\\resize.cpp:4044: error: (-215:Assertion failed) !ssize.empty() in function 'cv::resize'\n",
     "output_type": "error",
     "traceback": [
      "\u001b[1;31m---------------------------------------------------------------------------\u001b[0m",
      "\u001b[1;31merror\u001b[0m                                     Traceback (most recent call last)",
      "\u001b[1;32m~\\AppData\\Local\\Temp\\ipykernel_6092\\3783557140.py\u001b[0m in \u001b[0;36m<module>\u001b[1;34m\u001b[0m\n\u001b[0;32m     18\u001b[0m \u001b[1;33m\u001b[0m\u001b[0m\n\u001b[0;32m     19\u001b[0m         \u001b[0mimage\u001b[0m \u001b[1;33m=\u001b[0m \u001b[0mcv2\u001b[0m\u001b[1;33m.\u001b[0m\u001b[0mimread\u001b[0m\u001b[1;33m(\u001b[0m\u001b[0mpath\u001b[0m \u001b[1;33m+\u001b[0m \u001b[1;34m'\\\\'\u001b[0m\u001b[1;33m+\u001b[0m\u001b[0mimg_name\u001b[0m\u001b[1;33m)\u001b[0m\u001b[1;33m\u001b[0m\u001b[1;33m\u001b[0m\u001b[0m\n\u001b[1;32m---> 20\u001b[1;33m         \u001b[0mimage\u001b[0m \u001b[1;33m=\u001b[0m \u001b[0mcv2\u001b[0m\u001b[1;33m.\u001b[0m\u001b[0mresize\u001b[0m\u001b[1;33m(\u001b[0m\u001b[0mimage\u001b[0m\u001b[1;33m,\u001b[0m\u001b[1;33m(\u001b[0m\u001b[1;36m600\u001b[0m\u001b[1;33m,\u001b[0m\u001b[1;36m400\u001b[0m\u001b[1;33m)\u001b[0m\u001b[1;33m)\u001b[0m\u001b[1;33m\u001b[0m\u001b[1;33m\u001b[0m\u001b[0m\n\u001b[0m\u001b[0;32m     21\u001b[0m \u001b[1;33m\u001b[0m\u001b[0m\n\u001b[0;32m     22\u001b[0m         \u001b[0mframe_2\u001b[0m \u001b[1;33m=\u001b[0m \u001b[0mnp\u001b[0m\u001b[1;33m.\u001b[0m\u001b[0mhstack\u001b[0m\u001b[1;33m(\u001b[0m\u001b[1;33m(\u001b[0m\u001b[0mframe1\u001b[0m\u001b[1;33m,\u001b[0m\u001b[0mframe2\u001b[0m\u001b[1;33m)\u001b[0m\u001b[1;33m)\u001b[0m\u001b[1;33m\u001b[0m\u001b[1;33m\u001b[0m\u001b[0m\n",
      "\u001b[1;31merror\u001b[0m: OpenCV(3.4.2) C:\\Miniconda3\\conda-bld\\opencv-suite_1534379934306\\work\\modules\\imgproc\\src\\resize.cpp:4044: error: (-215:Assertion failed) !ssize.empty() in function 'cv::resize'\n"
     ]
    }
   ],
   "source": [
    "vimg_name=r'E:\\Videos\\img_1.jpg'\n",
    "\n",
    "cap1 = cv2.VideoCapture(video_path1)\n",
    "cap2 = cv2.VideoCapture(video_path2)\n",
    "cap3 = cv2.VideoCapture(0)\n",
    "\n",
    "\n",
    "while cap1.isOpened():\n",
    "    ret1, frame =  cap1.read()\n",
    "    ret2, frame2 =  cap2.read()\n",
    "    ret3, c_frame =  cap3.read()\n",
    "    if ret1:\n",
    "        frame1 = cv2.resize(frame, (600,400))\n",
    "        frame2 = cv2.resize(frame2, (600,400))\n",
    "        \n",
    "        camera_frame=cv2.resize(c_frame, (600,400))\n",
    "        \n",
    "        image = cv2.imread(path + '\\\\'+img_name)\n",
    "        image = cv2.resize(image,(600,400))\n",
    "        \n",
    "        frame_2 = np.hstack((frame1,frame2))\n",
    "        frame_02 = np.hstack((camera_frame, image))\n",
    "        frame_4 = np.vstack((frame_2,frame_02))\n",
    "        \n",
    "        cv2.imshow(\"Video Player\",frame_4)\n",
    "        \n",
    "        if cv2.waitKey(25) & 0xff == ord('q'):\n",
    "            break\n",
    "        else:\n",
    "            break\n",
    "cap.release()\n",
    "cv2.destroyAllWindows()\n"
   ]
  },
  {
   "cell_type": "code",
   "execution_count": null,
   "id": "7f582dbc",
   "metadata": {},
   "outputs": [],
   "source": []
  }
 ],
 "metadata": {
  "kernelspec": {
   "display_name": "Python 3 (ipykernel)",
   "language": "python",
   "name": "python3"
  },
  "language_info": {
   "codemirror_mode": {
    "name": "ipython",
    "version": 3
   },
   "file_extension": ".py",
   "mimetype": "text/x-python",
   "name": "python",
   "nbconvert_exporter": "python",
   "pygments_lexer": "ipython3",
   "version": "3.7.13"
  }
 },
 "nbformat": 4,
 "nbformat_minor": 5
}
