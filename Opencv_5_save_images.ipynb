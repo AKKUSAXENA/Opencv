{
 "cells": [
  {
   "cell_type": "markdown",
   "id": "2e9e0e6d",
   "metadata": {},
   "source": [
    "# How to save image or numpy array as image\n",
    "# How to convert video into images"
   ]
  },
  {
   "cell_type": "code",
   "execution_count": 1,
   "id": "a836a6ec",
   "metadata": {},
   "outputs": [],
   "source": [
    "import cv2\n",
    "import numpy as np\n",
    "import os"
   ]
  },
  {
   "cell_type": "markdown",
   "id": "f289d87d",
   "metadata": {},
   "source": [
    "# Save Numpy Array"
   ]
  },
  {
   "cell_type": "code",
   "execution_count": 2,
   "id": "2894c478",
   "metadata": {},
   "outputs": [],
   "source": [
    "rand_array = np.random.randint(255, size = (300,600,3))\n",
    "\n",
    "cv2.imwrite(\"rand_np_array.jpg\",rand_array)# imwrite (filename , img[,params])\n",
    "\n",
    "img = cv2.imread(\"rand_np_array.jpg\")\n",
    "cv2.imshow('image',img)\n",
    "\n",
    "cv2.waitKey(0)\n",
    "cv2.destroyAllWindows()"
   ]
  },
  {
   "cell_type": "markdown",
   "id": "2ea95749",
   "metadata": {},
   "source": [
    "# Save Image"
   ]
  },
  {
   "cell_type": "code",
   "execution_count": null,
   "id": "e78eae52",
   "metadata": {},
   "outputs": [],
   "source": [
    "img_path = 'img_1.jpg'\n",
    "\n",
    "img = cv2.imread(img_path)\n",
    "cv2.imshow('image',img)\n",
    "\n",
    "cv2.imwrite(\"Krishna_Write.png\",img)\n",
    "\n",
    "cv2.waitKey(0)\n",
    "cv2.destroyAllWindows()"
   ]
  },
  {
   "cell_type": "markdown",
   "id": "be09999f",
   "metadata": {},
   "source": [
    "# Save image from video"
   ]
  },
  {
   "cell_type": "code",
   "execution_count": null,
   "id": "428bbf63",
   "metadata": {},
   "outputs": [],
   "source": [
    "video_path = r\"E:\\Videos\\B PRAAK - Qismat 2 - Title Track - Ammy Virk - Sargun Mehta - Qismat 2 - 2021.mp4\"\n",
    "\n",
    "os.mkdir(\"video_to_image\") # create dirctory\n",
    "\n",
    "cap=cv2.VideoCapture(video_path) #capture video\n",
    "\n",
    "img_count = 1\n",
    "while cap.isOpened():\n",
    "    ret, frame = cap.read() # read video frame\n",
    "    \n",
    "    if not ret:\n",
    "        print(\"unable to read frame\")\n",
    "        break\n",
    "        \n",
    "    is_img_write = cv2.imwrite(f\"video_to_image\\image{img_count}.jpeg\",frame)\n",
    "    \n",
    "    if is_img_write:\n",
    "        print(f'image save at video_to_image\\image{img_count}.jpeg')\n",
    "    cv2.imshow(\"video\",frame)\n",
    "    cv2.waitKey(5) & 0xff == ord('q')\n",
    "    img_count += 1\n",
    "\n",
    "cap.release()\n",
    "cv2.destroyAllWindows()\n",
    "    \n",
    "    "
   ]
  },
  {
   "cell_type": "code",
   "execution_count": null,
   "id": "ed8ad210",
   "metadata": {},
   "outputs": [],
   "source": []
  }
 ],
 "metadata": {
  "kernelspec": {
   "display_name": "Python 3 (ipykernel)",
   "language": "python",
   "name": "python3"
  },
  "language_info": {
   "codemirror_mode": {
    "name": "ipython",
    "version": 3
   },
   "file_extension": ".py",
   "mimetype": "text/x-python",
   "name": "python",
   "nbconvert_exporter": "python",
   "pygments_lexer": "ipython3",
   "version": "3.7.13"
  }
 },
 "nbformat": 4,
 "nbformat_minor": 5
}
