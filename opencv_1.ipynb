{
 "cells": [
  {
   "cell_type": "code",
   "execution_count": 1,
   "id": "5b8e8364",
   "metadata": {},
   "outputs": [
    {
     "data": {
      "text/plain": [
       "'3.9.12 (main, Apr  4 2022, 05:22:27) [MSC v.1916 64 bit (AMD64)]'"
      ]
     },
     "execution_count": 1,
     "metadata": {},
     "output_type": "execute_result"
    }
   ],
   "source": [
    "import sys\n",
    "sys.version"
   ]
  },
  {
   "cell_type": "code",
   "execution_count": 4,
   "id": "1abdc9c6",
   "metadata": {},
   "outputs": [
    {
     "ename": "ModuleNotFoundError",
     "evalue": "No module named 'cv2'",
     "output_type": "error",
     "traceback": [
      "\u001b[1;31m---------------------------------------------------------------------------\u001b[0m",
      "\u001b[1;31mModuleNotFoundError\u001b[0m                       Traceback (most recent call last)",
      "Input \u001b[1;32mIn [4]\u001b[0m, in \u001b[0;36m<cell line: 1>\u001b[1;34m()\u001b[0m\n\u001b[1;32m----> 1\u001b[0m \u001b[38;5;28;01mimport\u001b[39;00m \u001b[38;5;21;01mcv2\u001b[39;00m\n\u001b[0;32m      2\u001b[0m \u001b[38;5;28mprint\u001b[39m(\u001b[38;5;124m\"\u001b[39m\u001b[38;5;124mOpencv Version = \u001b[39m\u001b[38;5;124m\"\u001b[39m, cv2\u001b[38;5;241m.\u001b[39m__version__)\n",
      "\u001b[1;31mModuleNotFoundError\u001b[0m: No module named 'cv2'"
     ]
    }
   ],
   "source": [
    "import cv2\n",
    "print(\"Opencv Version = \", cv2.__version__)"
   ]
  },
  {
   "cell_type": "code",
   "execution_count": null,
   "id": "99f61cee",
   "metadata": {},
   "outputs": [],
   "source": [
    "import numpy as np\n",
    "print(\"Numpy version = \", np.__version__)"
   ]
  },
  {
   "cell_type": "code",
   "execution_count": null,
   "id": "91fa9af8",
   "metadata": {},
   "outputs": [],
   "source": [
    "import pandas as pd\n",
    "print(\"Pandas version = \", pd.__version__)"
   ]
  },
  {
   "cell_type": "code",
   "execution_count": null,
   "id": "4fa98a05",
   "metadata": {},
   "outputs": [],
   "source": [
    "import matplotlib \n",
    "print(\"Matplotlib version = \", matplotlib.__version__)"
   ]
  },
  {
   "cell_type": "code",
   "execution_count": null,
   "id": "57ab795a",
   "metadata": {},
   "outputs": [],
   "source": [
    "import tensorflow as tf\n",
    "print(\"Tensorflow version = \", tf.__version__)"
   ]
  },
  {
   "cell_type": "markdown",
   "id": "b2c96d05",
   "metadata": {},
   "source": [
    "# Image Show"
   ]
  },
  {
   "cell_type": "code",
   "execution_count": null,
   "id": "f917f712",
   "metadata": {},
   "outputs": [],
   "source": [
    "import cv2"
   ]
  },
  {
   "cell_type": "code",
   "execution_count": null,
   "id": "e80a5d76",
   "metadata": {},
   "outputs": [],
   "source": [
    "path=r\"\"\"C:\\Users\\HP\\Desktop\\Opencv\\data\\images\"\"\"\n",
    "img_name= \"img_1.jpg\"\n",
    "\n",
    "img=cv2.imread(path + '\\\\' + img_name)\n",
    "cv2.imshow('image',img)\n",
    "\n",
    "cv2.waitKey(0)\n",
    "cv2.destroyAllWindows()"
   ]
  },
  {
   "cell_type": "code",
   "execution_count": null,
   "id": "06fa69ed",
   "metadata": {},
   "outputs": [],
   "source": [
    "img=cv2.imread(path + '\\\\' + img_name)\n",
    "\n",
    "img = cv2.resize(img,(600,400))\n",
    "cv2.imshow('image',img)\n",
    "cv2.waitKey(0)\n",
    "cv2.destroyAllWindows()"
   ]
  },
  {
   "cell_type": "code",
   "execution_count": null,
   "id": "e9145c63",
   "metadata": {},
   "outputs": [],
   "source": [
    "import os"
   ]
  },
  {
   "cell_type": "code",
   "execution_count": null,
   "id": "f61dfcb8",
   "metadata": {},
   "outputs": [],
   "source": [
    "img_names = os.listdir('data\\images')\n",
    "img_names"
   ]
  },
  {
   "cell_type": "code",
   "execution_count": null,
   "id": "39572f64",
   "metadata": {},
   "outputs": [],
   "source": [
    "path=r\"\"\"C:\\Users\\HP\\Desktop\\Opencv\\data\\images\"\"\"\n",
    "\n",
    "for img_name in img_names:\n",
    "    img_path_full = path + img_name\n",
    "    img = cv2.imread(img_path_full)\n",
    "    #img = cv2.resize(img,(600,400))\n",
    "    cv2.imshow(\"image\",img)\n",
    "    cv2.waitKey(1)\n",
    "\n",
    "cv2.destroyAllWindows()"
   ]
  },
  {
   "cell_type": "code",
   "execution_count": null,
   "id": "a1c4eecb",
   "metadata": {},
   "outputs": [],
   "source": [
    "import numpy as np\n",
    "\n",
    "for img_name in img_names:\n",
    "    img_path_full = path + img_name\n",
    "    img = cv2.imread(img_path_full)\n",
    "    img = cv2.resize(img,(300,200))\n",
    "    img_2 = np.hstack((img,img))\n",
    "    img_4 = np.vstack((img_2,img_2))\n",
    "    cv2.imshow(\"4 image\",img_4)\n",
    "    cv2.waitKey(1)\n",
    "\n",
    "cv2.destroyAllWindows()    \n"
   ]
  },
  {
   "cell_type": "code",
   "execution_count": null,
   "id": "60d22c76",
   "metadata": {},
   "outputs": [],
   "source": [
    "import numpy as np\n",
    "\n",
    "for img_name in img_names:\n",
    "    img_path_full = path + img_name\n",
    "    img = cv2.imread(img_path_full)\n",
    "    img = cv2.resize(img,(300,200))\n",
    "    img_2 = np.hstack((img,img))\n",
    "    img_4 = np.vstack((img_2,img_2))\n",
    "    cv2.imshow(\"4 image\",img_4)\n",
    "    cv2.waitKey(1)\n"
   ]
  }
 ],
 "metadata": {
  "kernelspec": {
   "display_name": "Python 3 (ipykernel)",
   "language": "python",
   "name": "python3"
  },
  "language_info": {
   "codemirror_mode": {
    "name": "ipython",
    "version": 3
   },
   "file_extension": ".py",
   "mimetype": "text/x-python",
   "name": "python",
   "nbconvert_exporter": "python",
   "pygments_lexer": "ipython3",
   "version": "3.7.13"
  }
 },
 "nbformat": 4,
 "nbformat_minor": 5
}
