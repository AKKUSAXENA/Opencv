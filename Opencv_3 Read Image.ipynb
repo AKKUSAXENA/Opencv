{
 "cells": [
  {
   "cell_type": "markdown",
   "id": "e117e0b0",
   "metadata": {},
   "source": [
    "# Read Image using OpenCV\n",
    "***Synatx - cv2.imread(path,flag)***\n",
    "\n",
    "***flag : default value is cv2.IMREAD_COLOR***\n",
    "\n",
    "cv2.IMREAD_COLOR or 1: ----- Read the image with RGB colors\n",
    "\n",
    "cv2.IMREAD_GRAYSCALE OR 0: ---- READS THE IMAGE WITH GRAY COLORS\n",
    "\n",
    "cv2.IMREAD_UNCHANGEDC or -1: --- it read the image as it from the source. if the source image is an RGB it loads the image into array with Red, Green and Blue channels If the source image is ARGB, it loads the image  with three color components along woith the alpha or transparency channel "
   ]
  },
  {
   "cell_type": "code",
   "execution_count": 1,
   "id": "53983ca4",
   "metadata": {},
   "outputs": [],
   "source": [
    "import cv2"
   ]
  },
  {
   "cell_type": "code",
   "execution_count": 2,
   "id": "f17ce565",
   "metadata": {},
   "outputs": [
    {
     "data": {
      "text/plain": [
       "array([[[190, 164, 217],\n",
       "        [189, 163, 216],\n",
       "        [187, 161, 215],\n",
       "        ...,\n",
       "        [107, 126, 177],\n",
       "        [120, 111, 198],\n",
       "        [134,  94, 219]],\n",
       "\n",
       "       [[194, 163, 218],\n",
       "        [189, 160, 215],\n",
       "        [183, 159, 213],\n",
       "        ...,\n",
       "        [140, 115, 195],\n",
       "        [147, 107, 209],\n",
       "        [154,  95, 223]],\n",
       "\n",
       "       [[193, 164, 219],\n",
       "        [190, 161, 217],\n",
       "        [188, 160, 213],\n",
       "        ...,\n",
       "        [172, 104, 213],\n",
       "        [174, 100, 218],\n",
       "        [178,  96, 225]],\n",
       "\n",
       "       ...,\n",
       "\n",
       "       [[ 57,  47,  40],\n",
       "        [ 57,  47,  40],\n",
       "        [ 57,  47,  40],\n",
       "        ...,\n",
       "        [ 57,  47,  40],\n",
       "        [ 57,  47,  40],\n",
       "        [ 57,  47,  40]],\n",
       "\n",
       "       [[ 57,  47,  40],\n",
       "        [ 57,  47,  40],\n",
       "        [ 57,  47,  40],\n",
       "        ...,\n",
       "        [ 57,  47,  40],\n",
       "        [ 57,  47,  40],\n",
       "        [ 57,  47,  40]],\n",
       "\n",
       "       [[ 57,  47,  40],\n",
       "        [ 57,  47,  40],\n",
       "        [ 57,  47,  40],\n",
       "        ...,\n",
       "        [ 57,  47,  40],\n",
       "        [ 57,  47,  40],\n",
       "        [ 57,  47,  40]]], dtype=uint8)"
      ]
     },
     "execution_count": 2,
     "metadata": {},
     "output_type": "execute_result"
    }
   ],
   "source": [
    "path = r\"img_1.jpg\"\n",
    "img = cv2.imread(path)\n",
    "img"
   ]
  },
  {
   "cell_type": "code",
   "execution_count": 3,
   "id": "a70d0848",
   "metadata": {},
   "outputs": [],
   "source": [
    "path = r\"img_1.jpg\"\n",
    "img = cv2.imread(path)\n",
    "#print(img)\n",
    "cv2.imshow('image',img)\n",
    "cv2.waitKey(0)\n",
    "cv2.destroyAllWindows()"
   ]
  },
  {
   "cell_type": "code",
   "execution_count": 9,
   "id": "343b1814",
   "metadata": {},
   "outputs": [],
   "source": [
    "path = r\"img_1.jpg\"\n",
    "\n",
    "img = cv2.imread(path,cv2.IMREAD_COLOR)\n",
    "#print(img)\n",
    "\n",
    "cv2.imshow('image',img)\n",
    "cv2.waitKey(0)\n",
    "cv2.destroyAllWindows()"
   ]
  },
  {
   "cell_type": "code",
   "execution_count": 14,
   "id": "833dc25b",
   "metadata": {},
   "outputs": [
    {
     "name": "stdout",
     "output_type": "stream",
     "text": [
      "[[[190 164 217]\n",
      "  [189 163 216]\n",
      "  [187 161 215]\n",
      "  ...\n",
      "  [107 126 177]\n",
      "  [120 111 198]\n",
      "  [134  94 219]]\n",
      "\n",
      " [[194 163 218]\n",
      "  [189 160 215]\n",
      "  [183 159 213]\n",
      "  ...\n",
      "  [140 115 195]\n",
      "  [147 107 209]\n",
      "  [154  95 223]]\n",
      "\n",
      " [[193 164 219]\n",
      "  [190 161 217]\n",
      "  [188 160 213]\n",
      "  ...\n",
      "  [172 104 213]\n",
      "  [174 100 218]\n",
      "  [178  96 225]]\n",
      "\n",
      " ...\n",
      "\n",
      " [[ 57  47  40]\n",
      "  [ 57  47  40]\n",
      "  [ 57  47  40]\n",
      "  ...\n",
      "  [ 57  47  40]\n",
      "  [ 57  47  40]\n",
      "  [ 57  47  40]]\n",
      "\n",
      " [[ 57  47  40]\n",
      "  [ 57  47  40]\n",
      "  [ 57  47  40]\n",
      "  ...\n",
      "  [ 57  47  40]\n",
      "  [ 57  47  40]\n",
      "  [ 57  47  40]]\n",
      "\n",
      " [[ 57  47  40]\n",
      "  [ 57  47  40]\n",
      "  [ 57  47  40]\n",
      "  ...\n",
      "  [ 57  47  40]\n",
      "  [ 57  47  40]\n",
      "  [ 57  47  40]]]\n",
      "\n",
      "(1534, 1500, 3)\n"
     ]
    }
   ],
   "source": [
    "path = r\"img_1.jpg\"\n",
    "\n",
    "img = cv2.imread(path,1)  # same as above\n",
    "print(img)\n",
    "print()\n",
    "print(img.shape)\n",
    "\n",
    "cv2.imshow('image',img)\n",
    "cv2.waitKey(0)\n",
    "cv2.destroyAllWindows()"
   ]
  },
  {
   "cell_type": "code",
   "execution_count": 11,
   "id": "8ddf3b7e",
   "metadata": {},
   "outputs": [
    {
     "name": "stdout",
     "output_type": "stream",
     "text": [
      "[[183 182 180 ... 139 138 136]\n",
      " [183 180 178 ... 142 142 140]\n",
      " [184 181 179 ... 144 144 144]\n",
      " ...\n",
      " [ 46  46  46 ...  46  46  46]\n",
      " [ 46  46  46 ...  46  46  46]\n",
      " [ 46  46  46 ...  46  46  46]]\n"
     ]
    }
   ],
   "source": [
    "path = r\"img_1.jpg\"\n",
    "\n",
    "img = cv2.imread(path,0)\n",
    "print(img)\n",
    "\n",
    "cv2.imshow('image',img)\n",
    "cv2.waitKey(0)\n",
    "cv2.destroyAllWindows()"
   ]
  },
  {
   "cell_type": "code",
   "execution_count": 13,
   "id": "85fd51bd",
   "metadata": {},
   "outputs": [
    {
     "name": "stdout",
     "output_type": "stream",
     "text": [
      "[[183 182 180 ... 139 138 136]\n",
      " [183 180 178 ... 142 142 140]\n",
      " [184 181 179 ... 144 144 144]\n",
      " ...\n",
      " [ 46  46  46 ...  46  46  46]\n",
      " [ 46  46  46 ...  46  46  46]\n",
      " [ 46  46  46 ...  46  46  46]]\n",
      "\n",
      "(1534, 1500)\n"
     ]
    }
   ],
   "source": [
    "path = r\"img_1.jpg\"\n",
    "\n",
    "img = cv2.imread(path,0)\n",
    "print(img)\n",
    "print()\n",
    "print(img.shape)\n",
    "\n",
    "cv2.imshow('image',img)\n",
    "cv2.waitKey(0)\n",
    "cv2.destroyAllWindows()"
   ]
  },
  {
   "cell_type": "code",
   "execution_count": 15,
   "id": "bc3b6969",
   "metadata": {},
   "outputs": [],
   "source": [
    "path = r\"img_1.jpg\"\n",
    "\n",
    "img = cv2.imread(path,0)\n",
    "#print(img) # to show array\n",
    "#print()\n",
    "#print(img.shape) # to print out shape of the image\n",
    "\n",
    "cv2.imshow('image',img)\n",
    "cv2.waitKey(0)\n",
    "cv2.destroyAllWindows()"
   ]
  },
  {
   "cell_type": "code",
   "execution_count": 19,
   "id": "29acc23b",
   "metadata": {},
   "outputs": [
    {
     "name": "stdout",
     "output_type": "stream",
     "text": [
      "(846, 564)\n"
     ]
    }
   ],
   "source": [
    "path = r\"\"\"E:\\Videos\\img_3.jpg\"\"\" # string as a raw string\n",
    "\n",
    "img = cv2.imread(path,0)\n",
    "#print(img)\n",
    "#print()\n",
    "print(img.shape)\n",
    "\n",
    "cv2.imshow('image',img)\n",
    "cv2.waitKey(0)\n",
    "cv2.destroyAllWindows()"
   ]
  },
  {
   "cell_type": "code",
   "execution_count": null,
   "id": "113d340b",
   "metadata": {},
   "outputs": [],
   "source": []
  }
 ],
 "metadata": {
  "kernelspec": {
   "display_name": "Python 3 (ipykernel)",
   "language": "python",
   "name": "python3"
  },
  "language_info": {
   "codemirror_mode": {
    "name": "ipython",
    "version": 3
   },
   "file_extension": ".py",
   "mimetype": "text/x-python",
   "name": "python",
   "nbconvert_exporter": "python",
   "pygments_lexer": "ipython3",
   "version": "3.7.13"
  }
 },
 "nbformat": 4,
 "nbformat_minor": 5
}
